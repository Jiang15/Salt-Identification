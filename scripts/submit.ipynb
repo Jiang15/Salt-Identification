{
 "cells": [
  {
   "cell_type": "code",
   "execution_count": 7,
   "metadata": {},
   "outputs": [],
   "source": [
    "import cv2\n",
    "import numpy as np\n",
    "import pandas as pd\n",
    "from tqdm import tqdm\n",
    "from keras.preprocessing import image\n",
    "from keras.preprocessing.image import ImageDataGenerator\n",
    "from keras import Model\n",
    "import sys\n",
    "sys.path.append('../model_zoo/')\n",
    "from resnet34_unet import ResNet34_UNet\n",
    "from inception_resnet_unet import InceptionResNetV2_UNet\n",
    "#from inception_resnet_unet_hypercolumns_multigpus import InceptionResNetV2_UNet"
   ]
  },
  {
   "cell_type": "code",
   "execution_count": 8,
   "metadata": {},
   "outputs": [
    {
     "name": "stdout",
     "output_type": "stream",
     "text": [
      "(None, 128, 128, 1)\n"
     ]
    }
   ],
   "source": [
    "import os\n",
    "os.environ[\"CUDA_VISIBLE_DEVICES\"] = \"3\"\n",
    "df_test = pd.read_csv('../input/sample_submission.csv')\n",
    "ids_test = df_test['id']\n",
    "input_size = 128\n",
    "batch_size = 48\n",
    "orig_width = 101\n",
    "orig_height = 101\n",
    "num_blocks=6\n",
    "threshold = 0.03 \n",
    "output_stride=8\n",
    "upsample_type = 'unet'\n",
    "weight_name = '../weights/best_weight_resnet34_unet_lovasz_hinge_loss_9_17_10.834750.hdf5'\n",
    "#model = ResNet50(input_shape=(input_size,input_size,3),output_stride=8,num_blocks=6,multigrid=[1,2,1],use_se=True,upsample_type=upsample_type)\n",
    "#model = PSPNet50(input_shape=(input_size,input_size,3),output_stride=8,num_blocks=6,multigrid=[1,2,1],use_se=True,upsample_type=upsample_type)\n",
    "inputs,outputs = ResNet34_UNet(use_activation=False)\n",
    "model = Model(inputs,outputs)\n",
    "model.load_weights(weight_name)\n",
    "names = []\n",
    "for id in ids_test:\n",
    "    names.append('{}'.format(id))"
   ]
  },
  {
   "cell_type": "code",
   "execution_count": 9,
   "metadata": {},
   "outputs": [],
   "source": [
    "def run_length_encode(img, order='F', format=True):\n",
    "    \"\"\"\n",
    "    img is binary mask image, shape (r,c)\n",
    "    order is down-then-right, i.e. Fortran\n",
    "    format determines if the order needs to be preformatted (according to submission rules) or not\n",
    "    returns run length as an array or string (if format is True)\n",
    "    \"\"\"\n",
    "    bytes = img.reshape(img.shape[0] * img.shape[1], order=order)\n",
    "    runs = []  ## list of run lengths\n",
    "    r = 0  ## the current run length\n",
    "    pos = 1  ## count starts from 1 per WK\n",
    "    for c in bytes:\n",
    "        if (c == 0):\n",
    "            if r != 0:\n",
    "                runs.append((pos, r))\n",
    "                pos += r\n",
    "                r = 0\n",
    "            pos += 1\n",
    "        else:\n",
    "            r += 1\n",
    "\n",
    "    # if last run is unsaved (i.e. data ends with 1)\n",
    "    if r != 0:\n",
    "        runs.append((pos, r))\n",
    "        pos += r\n",
    "        r = 0\n",
    "\n",
    "    if format:\n",
    "        z = ''\n",
    "\n",
    "        for rr in runs:\n",
    "            z += '{} {} '.format(rr[0], rr[1])\n",
    "        return z[:-1]\n",
    "    else:\n",
    "        return runs\n",
    "    \n",
    "def load_image(path, mask = False):\n",
    "    \"\"\"\n",
    "    Load image from a given path and pad it on the sides, so that eash side is divisible by 32 (newtwork requirement)\n",
    "    \n",
    "    if pad = True:\n",
    "        returns image as numpy.array, tuple with padding in pixels as(x_min_pad, y_min_pad, x_max_pad, y_max_pad)\n",
    "    else:\n",
    "        returns image as numpy.array\n",
    "    \"\"\"\n",
    "    img = cv2.imread(str(path))\n",
    "    #img = cv2.cvtColor(img, cv2.COLOR_BGR2RGB)\n",
    "    height, width, _ = img.shape\n",
    "    # Padding in needed for UNet models because they need image size to be divisible by 32 \n",
    "    if height % 32 == 0:\n",
    "        y_min_pad = 0\n",
    "        y_max_pad = 0\n",
    "    else:\n",
    "        y_pad = 32 - height % 32\n",
    "        y_min_pad = int(y_pad / 2)\n",
    "        y_max_pad = y_pad - y_min_pad\n",
    "        \n",
    "    if width % 32 == 0:\n",
    "        x_min_pad = 0\n",
    "        x_max_pad = 0\n",
    "    else:\n",
    "        x_pad = 32 - width % 32\n",
    "        x_min_pad = int(x_pad / 2)\n",
    "        x_max_pad = x_pad - x_min_pad\n",
    "    \n",
    "    img = cv2.copyMakeBorder(img, y_min_pad, y_max_pad, x_min_pad, x_max_pad, cv2.BORDER_REFLECT_101)\n",
    "    if mask:\n",
    "        # Convert mask to 0 and 1 format\n",
    "        img = img[:, :, 0:1] // 255.0\n",
    "        return img\n",
    "    else:\n",
    "        img = img[:, :, :] / 255.0\n",
    "        return img\n",
    "\n",
    "def get_prob(prob,height = 101, width =101):\n",
    "    if height % 32 == 0:\n",
    "        y_min_pad = 0\n",
    "        y_max_pad = 0\n",
    "    else:\n",
    "        y_pad = 32 - height % 32\n",
    "        y_min_pad = int(y_pad / 2)\n",
    "        y_max_pad = y_pad - y_min_pad\n",
    "\n",
    "    if width % 32 == 0:\n",
    "        x_min_pad = 0\n",
    "        x_max_pad = 0\n",
    "    else:\n",
    "        x_pad = 32 - width % 32\n",
    "        x_min_pad = int(x_pad / 2)\n",
    "        x_max_pad = x_pad - x_min_pad\n",
    "    return prob[y_min_pad:128 - y_max_pad, x_min_pad:128 - x_max_pad]"
   ]
  },
  {
   "cell_type": "code",
   "execution_count": 10,
   "metadata": {},
   "outputs": [
    {
     "name": "stderr",
     "output_type": "stream",
     "text": [
      "\r",
      "  0%|          | 0/563 [00:00<?, ?it/s]"
     ]
    },
    {
     "name": "stdout",
     "output_type": "stream",
     "text": [
      "Predicting on 18000 samples with batch_size = 32...\n"
     ]
    },
    {
     "name": "stderr",
     "output_type": "stream",
     "text": [
      "100%|██████████| 563/563 [14:41<00:00,  1.57s/it]\n"
     ]
    },
    {
     "name": "stdout",
     "output_type": "stream",
     "text": [
      "Generating submission file...\n"
     ]
    }
   ],
   "source": [
    "rles = []\n",
    "batch_size = 32\n",
    "print('Predicting on {} samples with batch_size = {}...'.format(len(ids_test), batch_size))\n",
    "preds_raw = []\n",
    "for start in tqdm(range(0, len(ids_test), batch_size)):\n",
    "    x_batch = []\n",
    "    end = min(start + batch_size, len(ids_test))\n",
    "    ids_test_batch = ids_test[start:end]\n",
    "    for id in ids_test_batch.values:\n",
    "        image_name = '../input/test/images/{}.png'.format(id)\n",
    "        img = load_image(image_name,mask=False) \n",
    "        x_batch.append(img)\n",
    "        \n",
    "    x_batch = np.array(x_batch, np.float32) \n",
    "    x_batch_vertical = x_batch[:,::-1,:,:]\n",
    "    x_batch_horizontal = x_batch[:,:,::-1,:]\n",
    "    x_batch_diag = x_batch[:,::-1,::-1,:]\n",
    "\n",
    "\n",
    "    preds = model.predict_on_batch(x_batch)\n",
    "    preds = np.squeeze(preds, axis=3)\n",
    "\n",
    "    \n",
    "    preds_horizontal = model.predict_on_batch(x_batch_horizontal)[:,:,::-1,:]\n",
    "    preds_horizontal = np.squeeze(preds_horizontal, axis=3)\n",
    "\n",
    "    preds = (preds+preds_horizontal)/2.0\n",
    "\n",
    "    for pred in preds:\n",
    "        prob = get_prob(pred)\n",
    "        mask = prob > threshold\n",
    "        rle = run_length_encode(mask)\n",
    "        rles.append(rle)\n",
    "        preds_raw.append(pred)\n",
    "\n",
    "\n",
    "print(\"Generating submission file...\")\n",
    "df = pd.DataFrame({'id': names, 'rle_mask': rles})\n",
    "df.to_csv('../submit/submission_{}.csv.gz'.format(weight_name.split('/')[-1]), index=False, compression='gzip')\n",
    "pd.to_pickle(preds_raw,'../sub_prob/prob_{}.pkl'.format(weight_name.split('/')[-1]))"
   ]
  },
  {
   "cell_type": "code",
   "execution_count": 11,
   "metadata": {},
   "outputs": [
    {
     "data": {
      "text/plain": [
       "0.42977777777777776"
      ]
     },
     "execution_count": 11,
     "metadata": {},
     "output_type": "execute_result"
    }
   ],
   "source": [
    "(df.rle_mask=='').mean()"
   ]
  },
  {
   "cell_type": "code",
   "execution_count": 6,
   "metadata": {},
   "outputs": [],
   "source": [
    "import pandas as pd\n",
    "from tqdm import tqdm\n",
    "df_test = pd.read_csv('../input/sample_submission.csv')\n",
    "ids_test = df_test['id']\n",
    "names = []\n",
    "for id in ids_test:\n",
    "    names.append('{}'.format(id))"
   ]
  },
  {
   "cell_type": "code",
   "execution_count": 7,
   "metadata": {},
   "outputs": [],
   "source": [
    "#preds_raw_lavsaz_hyper = pd.read_pickle('../sub_prob/prob_best_weight_inception_resnet_unet_hypercolumns_lovasz_hinge_loss_9_10_multigpu_0_0.852250.hdf5.pkl')\n",
    "preds_raw_lavsaz_fold0 = pd.read_pickle('../sub_prob/prob_best_weight_inception_resnet_unet_lovasz_hinge_loss_9_60.852750.hdf5.pkl')\n",
    "preds_raw_lavsaz_fold1 = pd.read_pickle('../sub_prob/prob_best_weight_inception_resnet_unet_lovasz_hinge_loss_9_6_10.836625.hdf5.pkl')\n",
    "preds_raw_lavsaz_fold2 = pd.read_pickle('../sub_prob/prob_best_weight_inception_resnet_unet_lovasz_hinge_loss_9_6_20.835000.hdf5.pkl')\n",
    "preds_raw_lavsaz_fold3 = pd.read_pickle('../sub_prob/prob_best_weight_inception_resnet_unet_lovasz_hinge_loss_9_6_30.841375.hdf5.pkl')\n",
    "preds_raw_lavsaz_fold4 = pd.read_pickle('../sub_prob/prob_best_weight_inception_resnet_unet_lovasz_hinge_loss_9_6_40.850500.hdf5.pkl')"
   ]
  },
  {
   "cell_type": "code",
   "execution_count": 8,
   "metadata": {},
   "outputs": [],
   "source": [
    "preds = [(item0+item1+item2+item3+item4)/5.0 for item0,item1,item2,item3,item4 in zip(preds_raw_lavsaz_fold0,\n",
    "                                       preds_raw_lavsaz_fold1,\n",
    "                                       preds_raw_lavsaz_fold2,\n",
    "                                       preds_raw_lavsaz_fold3,\n",
    "                                       preds_raw_lavsaz_fold4)]"
   ]
  },
  {
   "cell_type": "code",
   "execution_count": 9,
   "metadata": {},
   "outputs": [
    {
     "name": "stderr",
     "output_type": "stream",
     "text": [
      "100%|██████████| 18000/18000 [07:58<00:00, 37.60it/s]\n"
     ]
    }
   ],
   "source": [
    "rles = []\n",
    "threshold = 0.03\n",
    "for pred in tqdm(preds):\n",
    "    prob = get_prob(pred) \n",
    "    mask = prob > threshold\n",
    "    rle = run_length_encode(mask)\n",
    "    rles.append(rle)"
   ]
  },
  {
   "cell_type": "code",
   "execution_count": 10,
   "metadata": {},
   "outputs": [],
   "source": [
    "df = pd.DataFrame({'id': names, 'rle_mask': rles})"
   ]
  },
  {
   "cell_type": "code",
   "execution_count": 11,
   "metadata": {},
   "outputs": [],
   "source": [
    "df.to_csv('../submit/submission_bagging_lavsaz_th_0.03.csv.gz', index=False, compression='gzip')"
   ]
  },
  {
   "cell_type": "code",
   "execution_count": 13,
   "metadata": {},
   "outputs": [],
   "source": [
    "pd.to_pickle(preds,'../sub_prob/prob_best_weight_inception_resnet_unet_lovasz_hinge_loss_9_6_bagging_128_128.pkl')"
   ]
  },
  {
   "cell_type": "code",
   "execution_count": 16,
   "metadata": {},
   "outputs": [],
   "source": [
    "old = pd.read_csv('../submit/submission_best_weight_inception_resnet_unet_lovasz_hinge_loss_9_6_40.850500.hdf5.csv.gz',compression='gzip')"
   ]
  },
  {
   "cell_type": "code",
   "execution_count": 17,
   "metadata": {},
   "outputs": [
    {
     "data": {
      "text/plain": [
       "0.42227777777777775"
      ]
     },
     "execution_count": 17,
     "metadata": {},
     "output_type": "execute_result"
    }
   ],
   "source": [
    "old.rle_mask.isnull().mean()"
   ]
  },
  {
   "cell_type": "code",
   "execution_count": 20,
   "metadata": {},
   "outputs": [
    {
     "data": {
      "text/html": [
       "<div>\n",
       "<style>\n",
       "    .dataframe thead tr:only-child th {\n",
       "        text-align: right;\n",
       "    }\n",
       "\n",
       "    .dataframe thead th {\n",
       "        text-align: left;\n",
       "    }\n",
       "\n",
       "    .dataframe tbody tr th {\n",
       "        vertical-align: top;\n",
       "    }\n",
       "</style>\n",
       "<table border=\"1\" class=\"dataframe\">\n",
       "  <thead>\n",
       "    <tr style=\"text-align: right;\">\n",
       "      <th></th>\n",
       "      <th>id</th>\n",
       "      <th>rle_mask</th>\n",
       "    </tr>\n",
       "  </thead>\n",
       "  <tbody>\n",
       "    <tr>\n",
       "      <th>0</th>\n",
       "      <td>155410d6fa</td>\n",
       "      <td>1 907 910 98 1011 97 1112 97 1213 96 1314 95 1...</td>\n",
       "    </tr>\n",
       "    <tr>\n",
       "      <th>1</th>\n",
       "      <td>78b32781d1</td>\n",
       "      <td>56 46 157 46 257 47 357 48 456 50 555 52 654 5...</td>\n",
       "    </tr>\n",
       "    <tr>\n",
       "      <th>2</th>\n",
       "      <td>63db2a476a</td>\n",
       "      <td>8297 10 8395 19 8495 23 8596 25 8698 26 8800 2...</td>\n",
       "    </tr>\n",
       "    <tr>\n",
       "      <th>3</th>\n",
       "      <td>17bfcdb967</td>\n",
       "      <td>4445 33 4546 51 4643 5559</td>\n",
       "    </tr>\n",
       "    <tr>\n",
       "      <th>4</th>\n",
       "      <td>7ea0fd3c88</td>\n",
       "      <td></td>\n",
       "    </tr>\n",
       "  </tbody>\n",
       "</table>\n",
       "</div>"
      ],
      "text/plain": [
       "           id                                           rle_mask\n",
       "0  155410d6fa  1 907 910 98 1011 97 1112 97 1213 96 1314 95 1...\n",
       "1  78b32781d1  56 46 157 46 257 47 357 48 456 50 555 52 654 5...\n",
       "2  63db2a476a  8297 10 8395 19 8495 23 8596 25 8698 26 8800 2...\n",
       "3  17bfcdb967                          4445 33 4546 51 4643 5559\n",
       "4  7ea0fd3c88                                                   "
      ]
     },
     "execution_count": 20,
     "metadata": {},
     "output_type": "execute_result"
    }
   ],
   "source": [
    "df.head()"
   ]
  },
  {
   "cell_type": "code",
   "execution_count": 21,
   "metadata": {},
   "outputs": [
    {
     "data": {
      "text/html": [
       "<div>\n",
       "<style>\n",
       "    .dataframe thead tr:only-child th {\n",
       "        text-align: right;\n",
       "    }\n",
       "\n",
       "    .dataframe thead th {\n",
       "        text-align: left;\n",
       "    }\n",
       "\n",
       "    .dataframe tbody tr th {\n",
       "        vertical-align: top;\n",
       "    }\n",
       "</style>\n",
       "<table border=\"1\" class=\"dataframe\">\n",
       "  <thead>\n",
       "    <tr style=\"text-align: right;\">\n",
       "      <th></th>\n",
       "      <th>id</th>\n",
       "      <th>rle_mask</th>\n",
       "    </tr>\n",
       "  </thead>\n",
       "  <tbody>\n",
       "    <tr>\n",
       "      <th>0</th>\n",
       "      <td>155410d6fa</td>\n",
       "      <td>1 807 809 99 910 98 1011 97 1112 96 1213 96 13...</td>\n",
       "    </tr>\n",
       "    <tr>\n",
       "      <th>1</th>\n",
       "      <td>78b32781d1</td>\n",
       "      <td>56 46 157 46 257 47 356 49 455 51 555 52 654 5...</td>\n",
       "    </tr>\n",
       "    <tr>\n",
       "      <th>2</th>\n",
       "      <td>63db2a476a</td>\n",
       "      <td>8296 11 8395 18 8495 22 8596 24 8698 25 8776 2...</td>\n",
       "    </tr>\n",
       "    <tr>\n",
       "      <th>3</th>\n",
       "      <td>17bfcdb967</td>\n",
       "      <td>4445 28 4546 46 4647 5555</td>\n",
       "    </tr>\n",
       "    <tr>\n",
       "      <th>4</th>\n",
       "      <td>7ea0fd3c88</td>\n",
       "      <td>NaN</td>\n",
       "    </tr>\n",
       "  </tbody>\n",
       "</table>\n",
       "</div>"
      ],
      "text/plain": [
       "           id                                           rle_mask\n",
       "0  155410d6fa  1 807 809 99 910 98 1011 97 1112 96 1213 96 13...\n",
       "1  78b32781d1  56 46 157 46 257 47 356 49 455 51 555 52 654 5...\n",
       "2  63db2a476a  8296 11 8395 18 8495 22 8596 24 8698 25 8776 2...\n",
       "3  17bfcdb967                          4445 28 4546 46 4647 5555\n",
       "4  7ea0fd3c88                                                NaN"
      ]
     },
     "execution_count": 21,
     "metadata": {},
     "output_type": "execute_result"
    }
   ],
   "source": [
    "old.head()"
   ]
  },
  {
   "cell_type": "code",
   "execution_count": null,
   "metadata": {},
   "outputs": [],
   "source": []
  }
 ],
 "metadata": {
  "kernelspec": {
   "display_name": "Python 2",
   "language": "python",
   "name": "python2"
  },
  "language_info": {
   "codemirror_mode": {
    "name": "ipython",
    "version": 2
   },
   "file_extension": ".py",
   "mimetype": "text/x-python",
   "name": "python",
   "nbconvert_exporter": "python",
   "pygments_lexer": "ipython2",
   "version": "2.7.12"
  }
 },
 "nbformat": 4,
 "nbformat_minor": 2
}
